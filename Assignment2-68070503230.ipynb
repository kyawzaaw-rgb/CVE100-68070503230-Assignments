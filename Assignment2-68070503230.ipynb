{
  "cells": [
    {
      "cell_type": "markdown",
      "metadata": {
        "id": "bxim79cbeNwZ"
      },
      "source": [
        "#  Numbers"
      ]
    },
    {
      "cell_type": "markdown",
      "metadata": {
        "id": "BeIN901CeNwb"
      },
      "source": [
        "Compute the number of bytes in one Gigabyte (1kb = 1024 bytes, 1mb = 1024 kb, 1gb = 1024 mb)"
      ]
    },
    {
      "cell_type": "code",
      "execution_count": null,
      "metadata": {
        "colab": {
          "base_uri": "https://localhost:8080/"
        },
        "id": "zuitJn0leNwb",
        "outputId": "c4517988-cd79-4d03-fa23-038e5587ffe7"
      },
      "outputs": [
        {
          "output_type": "stream",
          "name": "stdout",
          "text": [
            "1073741824\n"
          ]
        }
      ],
      "source": [
        "#Write your code here\n",
        "\n",
        "GB=1\n",
        "MB=GB*1024\n",
        "KB=MB*1024\n",
        "b=KB*1024\n",
        "\n",
        "print(b)\n"
      ]
    },
    {
      "cell_type": "markdown",
      "metadata": {
        "id": "_KAWQZ8teNwc"
      },
      "source": [
        "You bought 500 shares of stock A at $\\$$600 on day 0 and you sold it at  $\\$$1000 on day 700.\n",
        "The daily discount rate is 0.0001%. How much profit did you make in terms of net present value.\n"
      ]
    },
    {
      "cell_type": "code",
      "execution_count": 60,
      "metadata": {
        "id": "sIhrfMp4eNwd",
        "colab": {
          "base_uri": "https://localhost:8080/"
        },
        "outputId": "62f9431b-e326-40d0-b49c-310bf1aeafc5"
      },
      "outputs": [
        {
          "output_type": "stream",
          "name": "stdout",
          "text": [
            "Net Present Value: 199650.12264632783\n"
          ]
        }
      ],
      "source": [
        "\n",
        "#Write your code here\n",
        "\n",
        "shares_prices=600\n",
        "total_shares=500\n",
        "sell_price=1000\n",
        "days=700\n",
        "daily_discount_rate=0.0001 / 100\n",
        "\n",
        "investment=shares_prices*total_shares\n",
        "future_value=sell_price*total_shares\n",
        "\n",
        "present_value=future_value / ((1+ daily_discount_rate) ** days )\n",
        "\n",
        "NPV=present_value - investment\n",
        "\n",
        "print(\"Net Present Value:\",NPV)\n",
        "\n",
        "\n"
      ]
    },
    {
      "cell_type": "markdown",
      "metadata": {
        "id": "KAUpVEMGeNwe"
      },
      "source": [
        "For any value of x, create a variable called even_check that is True if x is even and False if x is odd."
      ]
    },
    {
      "cell_type": "code",
      "execution_count": 61,
      "metadata": {
        "run_control": {
          "marked": true
        },
        "colab": {
          "base_uri": "https://localhost:8080/"
        },
        "id": "OuDzn2egeNwe",
        "outputId": "82fe20c2-286d-47c7-8ece-8dec2317a0d9"
      },
      "outputs": [
        {
          "output_type": "stream",
          "name": "stdout",
          "text": [
            "Enter a number2\n",
            "True\n"
          ]
        }
      ],
      "source": [
        "#Write your code here\n",
        "x=int(input(\"Enter a number\"))\n",
        "even_check= x % 2\n",
        "if even_check==0:\n",
        "  print(True)\n",
        "else:\n",
        "     print(False)\n"
      ]
    },
    {
      "cell_type": "markdown",
      "metadata": {
        "id": "IunM7YuYeNwe"
      },
      "source": [
        "You have num_shirts t-shirts, num_shorts pairs of shorts and num_shoes pairs of shoes.  Create a variable called num_outfits that stores the total number of different outfits you can make."
      ]
    },
    {
      "cell_type": "code",
      "execution_count": 47,
      "metadata": {
        "colab": {
          "base_uri": "https://localhost:8080/"
        },
        "id": "CrfAagfieNwf",
        "outputId": "e66d52d2-3563-497e-d8e6-9e4ae3b48681"
      },
      "outputs": [
        {
          "output_type": "stream",
          "name": "stdout",
          "text": [
            "Enter Total Shirts:2\n",
            "Enter Total Pairs of Shorts:2\n",
            "Enter Total Shoes:3\n",
            "Total Outfits= 12\n"
          ]
        }
      ],
      "source": [
        "#Write your code here\n",
        "\n",
        "num_shirts=int(input(\"Enter Total Shirts:\"))\n",
        "num_shorts=int(input(\"Enter Total Pairs of Shorts:\"))\n",
        "num_shoes=int(input(\"Enter Total Shoes:\"))\n",
        "\n",
        "Total_Outfits=num_shirts*num_shorts*num_shoes\n",
        "\n",
        "print(\"Total Outfits=\",Total_Outfits)\n",
        "\n"
      ]
    },
    {
      "cell_type": "markdown",
      "metadata": {
        "id": "ia2H3FSTeNwf"
      },
      "source": [
        "# String Practice\n",
        "\n",
        "Create variable called \"name\" that stores your full name. Find whether your name has an even or odd number of letters."
      ]
    },
    {
      "cell_type": "code",
      "execution_count": 12,
      "metadata": {
        "id": "Zz0560eieNwf",
        "colab": {
          "base_uri": "https://localhost:8080/"
        },
        "outputId": "c1c3c248-175a-4869-dffd-42005f052e4f"
      },
      "outputs": [
        {
          "output_type": "stream",
          "name": "stdout",
          "text": [
            "What Is Your Name?khju8\n",
            "Your name has odd number of letters\n"
          ]
        }
      ],
      "source": [
        "#Write your code here\n",
        "\n",
        "name=input(\"What Is Your Name?\")\n",
        "length=int(len(name))\n",
        "\n",
        "if length % 2 ==0:\n",
        "   print(\"Your name has even number of letters\")\n",
        "else:\n",
        "   print(\"Your name has odd number of letters\")\n"
      ]
    },
    {
      "cell_type": "markdown",
      "metadata": {
        "id": "ZpPRdG6neNwg"
      },
      "source": [
        "Correct the following variable so it is equal to \"spammy\""
      ]
    },
    {
      "cell_type": "code",
      "execution_count": 18,
      "metadata": {
        "id": "cNyQpkULeNwg",
        "colab": {
          "base_uri": "https://localhost:8080/"
        },
        "outputId": "838100b5-1bb8-4930-db67-679bf1dd4fd5"
      },
      "outputs": [
        {
          "output_type": "stream",
          "name": "stdout",
          "text": [
            "spammy\n"
          ]
        }
      ],
      "source": [
        "#Write your code here\n",
        "s = \"spaxxy\"\n",
        "\n",
        "s=s.replace(\"x\",\"m\")\n",
        "\n",
        "print(s)\n"
      ]
    },
    {
      "cell_type": "markdown",
      "metadata": {
        "id": "G_cRp8fJeNwg"
      },
      "source": [
        "Figure out a way to slice and combine the strings s1, s2, and s3 so that the variable consec_ints = \"123456789\"."
      ]
    },
    {
      "cell_type": "code",
      "execution_count": 22,
      "metadata": {
        "id": "ZA7LvccweNwh",
        "colab": {
          "base_uri": "https://localhost:8080/"
        },
        "outputId": "67496ef4-a04c-409f-d368-9dc845de001c"
      },
      "outputs": [
        {
          "output_type": "stream",
          "name": "stdout",
          "text": [
            "123456789\n"
          ]
        }
      ],
      "source": [
        "s1 = \"12345\"\n",
        "s2 = \"34567\"\n",
        "s3 = \"789\"\n",
        "\n",
        "#Write your code here\n",
        "\n",
        "consec_ints=(s1[:2]+s2[:4]+s3[:3])\n",
        "\n",
        "print(consec_ints)\n",
        "\n"
      ]
    },
    {
      "cell_type": "markdown",
      "metadata": {
        "id": "7tDkfzj5eNwh"
      },
      "source": [
        "#  List Practice\n",
        "\n"
      ]
    },
    {
      "cell_type": "markdown",
      "metadata": {
        "id": "OriHTu8ueNwh"
      },
      "source": [
        "Add the first and last elements of the list L. Store the result in a variable called sum_first_last. Your code should work if I change L."
      ]
    },
    {
      "cell_type": "code",
      "execution_count": 21,
      "metadata": {
        "id": "TSjycR13eNwh",
        "colab": {
          "base_uri": "https://localhost:8080/"
        },
        "outputId": "e57afd25-a257-48e8-e931-1da7076137dc"
      },
      "outputs": [
        {
          "output_type": "stream",
          "name": "stdout",
          "text": [
            "72\n"
          ]
        }
      ],
      "source": [
        "L = [5,1,43,2,4,56,7,90, 67]\n",
        "\n",
        "#Write your code here\n",
        "\n",
        "sum_first_last=L[0]+L[8]\n",
        "\n",
        "print(sum_first_last)\n",
        "\n"
      ]
    },
    {
      "cell_type": "markdown",
      "metadata": {
        "id": "0U-y8VOueNwi"
      },
      "source": [
        "Slice and combine the elements of the list L in a way to print out \"spam\"."
      ]
    },
    {
      "cell_type": "code",
      "execution_count": 23,
      "metadata": {
        "id": "WrKUm7zZeNwi",
        "colab": {
          "base_uri": "https://localhost:8080/"
        },
        "outputId": "c7b7e888-7685-4486-efe5-12ae3b796498"
      },
      "outputs": [
        {
          "output_type": "stream",
          "name": "stdout",
          "text": [
            "s p a m\n"
          ]
        }
      ],
      "source": [
        "L = [1,\"s\", 2, 3, \"p\", \"a\", 34,1,\"m\"]\n",
        "\n",
        "\n",
        "#Write your code here\n",
        "\n",
        "print(L[1],L[4],L[5],L[8])\n",
        "\n"
      ]
    },
    {
      "cell_type": "markdown",
      "metadata": {
        "id": "gTrE8WMneNwi"
      },
      "source": [
        "Create a variable called num_L which store the number represented by the list of strings in L.  For the example num_L should be 145. You may assume 3 digit numbers."
      ]
    },
    {
      "cell_type": "code",
      "execution_count": 34,
      "metadata": {
        "id": "5nZD0wjaeNwj",
        "colab": {
          "base_uri": "https://localhost:8080/"
        },
        "outputId": "b757ab61-a0ec-4dd6-c41a-c2d074792e25"
      },
      "outputs": [
        {
          "output_type": "stream",
          "name": "stdout",
          "text": [
            "145\n"
          ]
        }
      ],
      "source": [
        "L = [\"1\",\"4\",\"5\" ]\n",
        "\n",
        "#Write you code here\n",
        "\n",
        "num_L=L[0]+L[1]+L[2]\n",
        "\n",
        "print(num_L)"
      ]
    },
    {
      "cell_type": "markdown",
      "metadata": {
        "id": "FN8oLAQJeNwj"
      },
      "source": [
        "Create a list L of numbers of odd length.  Complete the following tasks:\n",
        "\n",
        " - Find the median element\n",
        " - Slice out all element indexed lower than the median element"
      ]
    },
    {
      "cell_type": "code",
      "execution_count": 44,
      "metadata": {
        "id": "JTLXGK0XeNwj",
        "colab": {
          "base_uri": "https://localhost:8080/"
        },
        "outputId": "1ef2834a-4898-44f6-ac49-020f81cfdef2"
      },
      "outputs": [
        {
          "output_type": "stream",
          "name": "stdout",
          "text": [
            "5\n",
            "[5, 6, 6, 9]\n"
          ]
        }
      ],
      "source": [
        "L= [4,5,3,2,6,6,9]\n",
        "\n",
        "#Write your code here\n",
        "\n",
        "L.sort()\n",
        "median=int(len(L)/2)\n",
        "print(L[median])\n",
        "print(L[median:])\n"
      ]
    }
  ],
  "metadata": {
    "kernelspec": {
      "display_name": "Python 3",
      "language": "python",
      "name": "python3"
    },
    "language_info": {
      "codemirror_mode": {
        "name": "ipython",
        "version": 3
      },
      "file_extension": ".py",
      "mimetype": "text/x-python",
      "name": "python",
      "nbconvert_exporter": "python",
      "pygments_lexer": "ipython3",
      "version": "3.6.0"
    },
    "toc": {
      "colors": {
        "hover_highlight": "#DAA520",
        "navigate_num": "#000000",
        "navigate_text": "#333333",
        "running_highlight": "#FF0000",
        "selected_highlight": "#FFD700",
        "sidebar_border": "#EEEEEE",
        "wrapper_background": "#FFFFFF"
      },
      "moveMenuLeft": true,
      "nav_menu": {
        "height": "12px",
        "width": "252px"
      },
      "navigate_menu": true,
      "number_sections": true,
      "sideBar": true,
      "skip_h1_title": false,
      "threshold": 4,
      "toc_cell": false,
      "toc_position": {},
      "toc_section_display": "block",
      "toc_window_display": false,
      "widenNotebook": false
    },
    "colab": {
      "provenance": []
    }
  },
  "nbformat": 4,
  "nbformat_minor": 0
}