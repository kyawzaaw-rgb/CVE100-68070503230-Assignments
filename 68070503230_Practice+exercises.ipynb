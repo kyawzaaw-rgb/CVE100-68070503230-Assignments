{
 "cells": [
  {
   "cell_type": "markdown",
   "id": "186222d0",
   "metadata": {},
   "source": [
    "Exercise 1\n",
    "\n",
    "Write a function to report the weather condition. \n",
    "Input ==> Temperature ('C)\n",
    "\n",
    "IF the temperature is below 0, print \"Freezing Cold\"\n",
    "IF the temperature is 0-20, print \"Cold Weather\"\n",
    "IF the temperature is 21-30, print \" Warm Weather\"\n",
    "Otherwise, print \"Hot Weather\""
   ]
  },
  {
   "cell_type": "code",
   "execution_count": 26,
   "id": "4bbb422e",
   "metadata": {},
   "outputs": [
    {
     "name": "stdout",
     "output_type": "stream",
     "text": [
      "Freezing Cold\n"
     ]
    }
   ],
   "source": [
    "def weather_report(temp: float):\n",
    "    if temp < 0 :\n",
    "        print(\"Freezing Cold\")\n",
    "    elif 0 <= temp <= 20 :\n",
    "        print(\"Cold Wather\")\n",
    "    elif 21 <= temp <= 30 :\n",
    "        print(\"Warm Weather\")\n",
    "    elif temp > 30:\n",
    "        print(\"Hot Weather\")\n",
    "\n",
    "\n",
    "weather_report(float(input(\"Write the temperature\")))"
   ]
  },
  {
   "cell_type": "markdown",
   "id": "36f44c18",
   "metadata": {},
   "source": [
    "Exercise 2\n",
    "\n",
    "Write a function that takes an integer as an input score\n",
    "\n",
    "If the score is greater than or equal to 50, print \"Pass\"\n",
    "If the score is greater than or equal to 75, print \"Good\"\n",
    "If the score is exactly 100, print \"Perfect\"\n",
    "\n",
    "Since these are multiple independent conditions, more than one message print"
   ]
  },
  {
   "cell_type": "code",
   "execution_count": 25,
   "id": "b3971fd8",
   "metadata": {},
   "outputs": [
    {
     "name": "stdout",
     "output_type": "stream",
     "text": [
      "Pass\n",
      "Good\n"
     ]
    }
   ],
   "source": [
    "def get_score(score: float):\n",
    "    if score >= 50 :\n",
    "        print(\"Pass\") \n",
    "    if score >= 75 :\n",
    "        print(\"Good\")\n",
    "    if score ==100:\n",
    "        print(\"Perfect\")\n",
    "\n",
    "\n",
    "get_score(float(input(\"Enter Your Score\")))\n",
    "\n",
    "\n",
    "    \n",
    "\n",
    "\n"
   ]
  },
  {
   "cell_type": "markdown",
   "id": "5c1b906e",
   "metadata": {},
   "source": [
    "Exercise 3\n",
    "\n",
    "Write a program that returns the count of vowels in the string. Use a for loop to go through each character in the string.\n",
    "\n",
    "Input ==> apple, Output ==> 2\n",
    "\n",
    "Input ==> Hello World, Output => 3\n",
    "\n",
    "Input ==> balloon, Output ==> 3"
   ]
  },
  {
   "cell_type": "code",
   "execution_count": 23,
   "id": "64239a6d",
   "metadata": {},
   "outputs": [
    {
     "data": {
      "text/plain": [
       "4"
      ]
     },
     "execution_count": 23,
     "metadata": {},
     "output_type": "execute_result"
    }
   ],
   "source": [
    "def count_vowels(st: str):\n",
    "    count= 0\n",
    "    #TO DO\n",
    "    for c in st:\n",
    "        if c == 'a' or c == 'A' or c == 'e' or c =='E' or c == 'i' or c =='I' or c== 'o' or c=='O' or c =='u' or c=='U' :\n",
    "            count+=1\n",
    "    return count\n",
    "      \n",
    "\n",
    "count_vowels(str(input(\"Enter the word\")))"
   ]
  }
 ],
 "metadata": {
  "kernelspec": {
   "display_name": "Python 3",
   "language": "python",
   "name": "python3"
  },
  "language_info": {
   "codemirror_mode": {
    "name": "ipython",
    "version": 3
   },
   "file_extension": ".py",
   "mimetype": "text/x-python",
   "name": "python",
   "nbconvert_exporter": "python",
   "pygments_lexer": "ipython3",
   "version": "3.12.5"
  }
 },
 "nbformat": 4,
 "nbformat_minor": 5
}
